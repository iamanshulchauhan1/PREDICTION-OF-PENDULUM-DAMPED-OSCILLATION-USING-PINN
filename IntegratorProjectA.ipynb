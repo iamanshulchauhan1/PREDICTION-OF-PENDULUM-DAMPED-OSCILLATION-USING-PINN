{
 "cells": [
  {
   "cell_type": "code",
   "execution_count": 1,
   "id": "a404d80e",
   "metadata": {},
   "outputs": [
    {
     "data": {
      "text/plain": [
       "run_step (generic function with 1 method)"
      ]
     },
     "execution_count": 1,
     "metadata": {},
     "output_type": "execute_result"
    }
   ],
   "source": [
    "# Problem: Solve the second oder non-linear differential eqation (simple pendulam problem)\n",
    "## Eqation: phi_dotdot + c * phi_dot + g / l * phi = 0\n",
    "\n",
    "# This is a numeric integration file for the mathematical pendulum\n",
    "\n",
    "mutable struct Integrator\n",
    "    delta_t::Float64\n",
    "    timesteps::Int64\n",
    "    Integrator(delta_t, timesteps) = new(delta_t, timesteps)\n",
    "    res_phi::Vector\n",
    "    res_phi_dot::Vector\n",
    "end\n",
    "\n",
    "## run one integration time step\n",
    "function run_step(int::Integrator, type, pendulum, step)\n",
    "    if type == \"euler\"\n",
    "        run_euler_step(int, pendulum, step)\n",
    "    elseif type == \"central_diff\"\n",
    "        run_central_diff_step(int, pendulum, step)\n",
    "    else\n",
    "        println(\"... integration type not understood ...\")\n",
    "    end\n",
    "end"
   ]
  },
  {
   "cell_type": "code",
   "execution_count": 2,
   "id": "c5c0146e",
   "metadata": {},
   "outputs": [
    {
     "data": {
      "text/plain": [
       "run_euler_step (generic function with 1 method)"
      ]
     },
     "execution_count": 2,
     "metadata": {},
     "output_type": "execute_result"
    }
   ],
   "source": [
    "## euler integration time step (homework)\n",
    "function run_euler_step(int::Integrator, pendulum, step)\n",
    "    println(\"Running euler step $step\")\n",
    "    ###### (phi -> phi_2) ######\n",
    "    # input\n",
    "    g = pendulum.g\n",
    "    l = pendulum.l\n",
    "    c = pendulum.c\n",
    "    delta_t = int.delta_t\n",
    "    phi = pendulum.phi\n",
    "    phi_dot = pendulum.phi_dot\n",
    "\n",
    "    ### Formula for Euler method\n",
    "    # Displacement forward step: u_i+1 = u_i + delta_t * u_dot_i\n",
    "    # Velocity forward step: u_dot_i+1 = u_dot_i + delta_t * u_dotdot_i\n",
    "\n",
    "    ### calculation\n",
    "    phi_dotdot = - g / l * phi - c * phi_dot\n",
    "    phi_dot_2 = phi_dot + delta_t * phi_dotdot\n",
    "    phi_2 = phi + delta_t * phi_dot\n",
    "    # output\n",
    "    pendulum.phi = phi_2\n",
    "    pendulum.phi_dot = phi_dot_2\n",
    "end"
   ]
  },
  {
   "cell_type": "code",
   "execution_count": 3,
   "id": "76340de3",
   "metadata": {},
   "outputs": [
    {
     "data": {
      "text/plain": [
       "run_central_diff_step (generic function with 1 method)"
      ]
     },
     "execution_count": 3,
     "metadata": {},
     "output_type": "execute_result"
    }
   ],
   "source": [
    "## central difference time step (homework)\n",
    "function run_central_diff_step(int::Integrator, pendulum, step)\n",
    "    println(\"Running central difference step $step\")\n",
    "    ###### (phi_0 -> phi_1) ######\n",
    "    # input\n",
    "    g = pendulum.g\n",
    "    l = pendulum.l\n",
    "    c = pendulum.c\n",
    "    delta_t = int.delta_t\n",
    "    phi_0 = pendulum.phi\n",
    "    phi_dot_0 = pendulum.phi_dot\n",
    "\n",
    "    ######\n",
    "\n",
    "    ## Formula for central difference method\n",
    "    # u_dot_i = (u_i+1 - u_i-1) / 2 * delta_t\n",
    "    # u_dotdot_i = (u_i+1 - 2 * u_i + u_i-1) / delta_t^2\n",
    "    # For i = 0 the formula can be rewritten as: \n",
    "    ## u_dot_0 = (u_1 - u_-1) / 2 * delta_t\n",
    "    ## u_dotdot_0 = (u_1 - 2 * u_0 + u_-1) / delta_t^2\n",
    "    ### Inserting them into differential equation we obtain value of u_-1:\n",
    "    ### u_-1 = u_0 - delta_t * u_dot_0 + 1/2 * delta_t^2 * u_dotdot_0\n",
    "    # Note: to find the value of u_i+1, you need the u_i and u_i-1 values\n",
    "\n",
    "    ######\n",
    "\n",
    "    ## calculation\n",
    "    # initial condition of phi_minus1 (previous point)\n",
    "    phi_dotdot_0 = - g / l * phi_0 - c * phi_dot_0\n",
    "    phi_minus1 = phi_0 - delta_t * phi_dot_0 + 1/2 * delta_t^2 * phi_dotdot_0\n",
    "    # central difference method\n",
    "    phi_1 = ( (phi_0 * (- delta_t^2 * g / l + 2) + phi_minus1 * (delta_t * c / 2 - 1))\n",
    "             /(delta_t * c / 2 + 1) )\n",
    "    phi_2 = ( (phi_1 * (- delta_t^2 * g / l + 2) + phi_0 * (delta_t * c / 2 - 1))\n",
    "             /(delta_t * c / 2 + 1) )\n",
    "    phi_dot_1 = (phi_2 - phi_0) / (2 * delta_t)\n",
    "    # output\n",
    "    pendulum.phi = phi_1\n",
    "    pendulum.phi_dot = phi_dot_1\n",
    "end"
   ]
  },
  {
   "cell_type": "code",
   "execution_count": null,
   "id": "6c355316",
   "metadata": {},
   "outputs": [],
   "source": []
  }
 ],
 "metadata": {
  "kernelspec": {
   "display_name": "Julia 1.8.3",
   "language": "julia",
   "name": "julia-1.8"
  },
  "language_info": {
   "file_extension": ".jl",
   "mimetype": "application/julia",
   "name": "julia",
   "version": "1.8.3"
  }
 },
 "nbformat": 4,
 "nbformat_minor": 5
}
