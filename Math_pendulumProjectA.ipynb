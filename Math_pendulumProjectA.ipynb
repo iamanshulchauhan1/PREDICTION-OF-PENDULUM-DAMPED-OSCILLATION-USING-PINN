{
 "cells": [
  {
   "cell_type": "code",
   "execution_count": 1,
   "id": "623e013e",
   "metadata": {},
   "outputs": [],
   "source": [
    "# Mathematical pendulum\n",
    "# store variables\n",
    "# plot state\n",
    "using Plots"
   ]
  },
  {
   "cell_type": "code",
   "execution_count": 2,
   "id": "af393606",
   "metadata": {},
   "outputs": [],
   "source": [
    "## create object pendulum\n",
    "mutable struct Math_pendulum\n",
    "    l::Float64\n",
    "\tg::Float64\n",
    "    m::Float64\n",
    "\tc::Float64\n",
    "\tphi::Float64\n",
    "\tphi_dot::Float64\n",
    "    Math_pendulum(l, g, m, c, phi, phi_dot) = new(l, g, m, c, phi, phi_dot)\n",
    "end"
   ]
  },
  {
   "cell_type": "code",
   "execution_count": 3,
   "id": "8b5855f4",
   "metadata": {},
   "outputs": [
    {
     "data": {
      "text/plain": [
       "create_fig (generic function with 4 methods)"
      ]
     },
     "execution_count": 3,
     "metadata": {},
     "output_type": "execute_result"
    }
   ],
   "source": [
    "## create empty figure\n",
    "function create_fig(mp::Math_pendulum, hfig=500, bfig=500, size_factor = 1.1)\n",
    "    p_mat = zeros(2,5)\n",
    "\tp_mat[:,1] = zeros(2)   + [-mp.l,-mp.l]*size_factor\n",
    "\tp_mat[:,2] = p_mat[:,1] + [2*mp.l,0]*size_factor\n",
    "\tp_mat[:,3] = p_mat[:,2] + [0,2*mp.l]*size_factor\n",
    "\tp_mat[:,4] = p_mat[:,3] + [-2*mp.l,0]*size_factor\n",
    "\tp_mat[:,5] = p_mat[:,1]\n",
    "\tbox_border_plot = plot(p_mat[1,:],p_mat[2,:],border=:none,aspect_ratio=1,\n",
    "\t            legend=false,color=\"gray\",lw=1,fmt=:pdf)\n",
    "\tplot!(size=(bfig,hfig))\n",
    "\treturn box_border_plot\n",
    "end"
   ]
  },
  {
   "cell_type": "code",
   "execution_count": 4,
   "id": "cd009775",
   "metadata": {},
   "outputs": [
    {
     "data": {
      "text/plain": [
       "plot_state (generic function with 1 method)"
      ]
     },
     "execution_count": 4,
     "metadata": {},
     "output_type": "execute_result"
    }
   ],
   "source": [
    "## plot the state of the pendulum\n",
    "function plot_state(mp::Math_pendulum)\n",
    "\tplot_rod(mp)\n",
    "\tplot_mass(mp)\n",
    "\tplot_bearing(mp)\n",
    "\tplot_hinge(mp)\n",
    "end"
   ]
  },
  {
   "cell_type": "code",
   "execution_count": 5,
   "id": "1436f8f4",
   "metadata": {},
   "outputs": [
    {
     "data": {
      "text/plain": [
       "plot_bearing (generic function with 3 methods)"
      ]
     },
     "execution_count": 5,
     "metadata": {},
     "output_type": "execute_result"
    }
   ],
   "source": [
    "## plot bearing\n",
    "function plot_bearing(mp::Math_pendulum, size=0.1, linew=1.0)\n",
    "\tbearing = zeros(2,4)\n",
    "\tbearing[:, 1] = [0,0]\n",
    "\tbearing[:, 2] = bearing[:, 1] + [size*0.75, size]\n",
    "\tbearing[:, 3] = bearing[:, 2] + [-2*size*0.75, 0]\n",
    "\tbearing[:, 4] = bearing[:, 3] + [size*0.75, -size]\n",
    "\treturn plot!(bearing[1, :], bearing[2, :], color=\"black\", lw=linew)\n",
    "end"
   ]
  },
  {
   "cell_type": "code",
   "execution_count": 6,
   "id": "2890281d",
   "metadata": {},
   "outputs": [
    {
     "data": {
      "text/plain": [
       "plot_rod (generic function with 1 method)"
      ]
     },
     "execution_count": 6,
     "metadata": {},
     "output_type": "execute_result"
    }
   ],
   "source": [
    "## plot status of the pendulum\n",
    "function plot_rod(mp::Math_pendulum)\n",
    "\tpos_x = +mp.l*sin(mp.phi)\n",
    "\tpos_y = -mp.l*cos(mp.phi)\n",
    "\trod = zeros(2, 2)\n",
    "\trod[:,1] = [pos_x, pos_y]\n",
    "\treturn plot!(rod[1, :], rod[2, :], color=\"black\", lw=2)\n",
    "end"
   ]
  },
  {
   "cell_type": "code",
   "execution_count": 7,
   "id": "2d9d7517",
   "metadata": {},
   "outputs": [
    {
     "data": {
      "text/plain": [
       "plot_mass (generic function with 2 methods)"
      ]
     },
     "execution_count": 7,
     "metadata": {},
     "output_type": "execute_result"
    }
   ],
   "source": [
    "## plot mass of the mathematical pendulum\n",
    "function plot_mass(mp::Math_pendulum, size=15.0)\n",
    "\tpos_x = +mp.l*sin(mp.phi)\n",
    "\tpos_y = -mp.l*cos(mp.phi)\n",
    "\treturn scatter!([pos_x], [pos_y], markersize=size,\n",
    "\t                color=\"black\", markerstrokecolor=\"black\")\n",
    "end"
   ]
  },
  {
   "cell_type": "code",
   "execution_count": 11,
   "id": "a1692e67",
   "metadata": {},
   "outputs": [
    {
     "data": {
      "text/plain": [
       "plot_hinge (generic function with 2 methods)"
      ]
     },
     "execution_count": 11,
     "metadata": {},
     "output_type": "execute_result"
    }
   ],
   "source": [
    "## plot the hinge at the bearing\n",
    "function plot_hinge(mp::Math_pendulum, size=6.0)\n",
    "\treturn scatter!([0.0],[0.0], markersize=size, color=\"white\",\n",
    "\t                markerstrokecolor=\"black\", markerstrokewidths=2.0)\n",
    "end"
   ]
  },
  {
   "cell_type": "code",
   "execution_count": null,
   "id": "d6c6b879",
   "metadata": {},
   "outputs": [],
   "source": []
  }
 ],
 "metadata": {
  "kernelspec": {
   "display_name": "Julia 1.8.3",
   "language": "julia",
   "name": "julia-1.8"
  },
  "language_info": {
   "file_extension": ".jl",
   "mimetype": "application/julia",
   "name": "julia",
   "version": "1.8.3"
  }
 },
 "nbformat": 4,
 "nbformat_minor": 5
}
