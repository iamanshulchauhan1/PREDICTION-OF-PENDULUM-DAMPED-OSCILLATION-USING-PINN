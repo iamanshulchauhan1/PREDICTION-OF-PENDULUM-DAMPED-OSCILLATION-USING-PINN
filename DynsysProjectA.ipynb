{
 "cells": [
  {
   "cell_type": "code",
   "execution_count": 1,
   "id": "602df689",
   "metadata": {},
   "outputs": [
    {
     "data": {
      "text/plain": [
       "Main.Dynsys"
      ]
     },
     "execution_count": 1,
     "metadata": {},
     "output_type": "execute_result"
    }
   ],
   "source": [
    "## definition of the dynamic system mathematical pendulum integrator\n",
    "\n",
    "using NBInclude        # Calling a julia function from jupyter notebook\n",
    "\n",
    "module Dynsys\n",
    "    using NBInclude\n",
    "    @nbinclude(\"Math_pendulumProjectA.ipynb\")\n",
    "    @nbinclude(\"IntegratorProjectA.ipynb\")\n",
    "end"
   ]
  },
  {
   "cell_type": "code",
   "execution_count": null,
   "id": "4cba0223",
   "metadata": {},
   "outputs": [],
   "source": []
  }
 ],
 "metadata": {
  "kernelspec": {
   "display_name": "Julia 1.8.3",
   "language": "julia",
   "name": "julia-1.8"
  },
  "language_info": {
   "file_extension": ".jl",
   "mimetype": "application/julia",
   "name": "julia",
   "version": "1.8.3"
  }
 },
 "nbformat": 4,
 "nbformat_minor": 5
}
